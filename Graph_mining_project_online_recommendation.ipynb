{
  "nbformat": 4,
  "nbformat_minor": 0,
  "metadata": {
    "colab": {
      "provenance": []
    },
    "kernelspec": {
      "name": "python3",
      "display_name": "Python 3"
    },
    "language_info": {
      "name": "python"
    }
  },
  "cells": [
    {
      "cell_type": "code",
      "execution_count": null,
      "metadata": {
        "colab": {
          "base_uri": "https://localhost:8080/"
        },
        "id": "UW83IRg6Mm_D",
        "outputId": "2fe1f45f-77b8-4dc4-e6ba-2acab21a91f5"
      },
      "outputs": [
        {
          "output_type": "stream",
          "name": "stdout",
          "text": [
            "Cloning into 'Recommendation-System-Using-GNNs'...\n",
            "remote: Enumerating objects: 30, done.\u001b[K\n",
            "remote: Counting objects: 100% (30/30), done.\u001b[K\n",
            "remote: Compressing objects: 100% (26/26), done.\u001b[K\n",
            "remote: Total 30 (delta 4), reused 17 (delta 1), pack-reused 0\u001b[K\n",
            "Unpacking objects: 100% (30/30), 25.38 MiB | 5.04 MiB/s, done.\n"
          ]
        }
      ],
      "source": [
        "# install & download anything here in this cell!\n",
        "!git clone https://github.com/sm823zw/Recommendation-System-Using-GNNs.git"
      ]
    },
    {
      "cell_type": "code",
      "source": [
        "# import anything here in this cell!\n",
        "import random\n",
        "import pickle\n",
        "import numpy as np\n",
        "import networkx as nx\n",
        "import pandas as pd\n",
        "from tqdm import tqdm\n",
        "from scipy.io import loadmat"
      ],
      "metadata": {
        "id": "vnhii2vTNVzE"
      },
      "execution_count": null,
      "outputs": []
    },
    {
      "cell_type": "code",
      "source": [
        "# load dataset\n",
        "click_f = loadmat('Recommendation-System-Using-GNNs/data/ciao/rating.mat')['rating']\n",
        "trust_f = loadmat('Recommendation-System-Using-GNNs/data/ciao/trustnetwork.mat')['trustnetwork']"
      ],
      "metadata": {
        "id": "ankTP7ZhNoui"
      },
      "execution_count": null,
      "outputs": []
    },
    {
      "cell_type": "code",
      "source": [
        "# preprocess data:\n",
        "click_list = []\n",
        "trust_list = []\n",
        "\n",
        "u_items_list = []\n",
        "u_users_list = []\n",
        "u_users_items_list = []\n",
        "i_users_list = []\n",
        "\n",
        "user_count = 0\n",
        "item_count = 0\n",
        "rate_count = 0\n",
        "\n",
        "for x in click_f:\n",
        "    uid = x[0]\n",
        "    iid = x[1]\n",
        "    label = x[3]\n",
        "    user_count = max(user_count, uid)\n",
        "    item_count = max(item_count, iid)\n",
        "    rate_count = max(rate_count, label)\n",
        "    click_list.append([uid, iid, label])\n",
        "pos_list = []\n",
        "for x in click_list:\n",
        "\tpos_list.append((x[0], x[1], x[2]))\n",
        "\n",
        "pos_list = list(set(pos_list))\n",
        "random.shuffle(pos_list)\n",
        "num_test = int(len(pos_list) * 0.2)\n",
        "test_set = pos_list[:num_test]\n",
        "# valid_set = pos_list[num_test:2 * num_test]\n",
        "train_set = pos_list[num_test:]\n",
        "print(f'Train samples: {len(train_set)}, Test samples: {len(test_set)}')\n",
        "\n",
        "with open('Recommendation-System-Using-GNNs/data/dataset_ciao.pkl', 'wb') as f:\n",
        "\tpickle.dump(train_set, f, pickle.HIGHEST_PROTOCOL)\n",
        "\t# pickle.dump(valid_set, f, pickle.HIGHEST_PROTOCOL)\n",
        "\tpickle.dump(test_set, f, pickle.HIGHEST_PROTOCOL)\n",
        "train_df = pd.DataFrame(train_set, columns = ['uid', 'iid', 'label'])\n",
        "# valid_df = pd.DataFrame(valid_set, columns = ['uid', 'iid', 'label'])\n",
        "test_df = pd.DataFrame(test_set, columns = ['uid', 'iid', 'label'])\n",
        "\n",
        "click_df = pd.DataFrame(click_list, columns = ['uid', 'iid', 'label'])\n",
        "train_df = train_df.sort_values(axis = 0, ascending = True, by = 'uid')\n",
        "\n",
        "for user in tqdm(range(user_count)):\n",
        "    user_df = train_df[train_df['uid'] == (user+1)]\n",
        "    user_items = user_df['iid'].tolist()\n",
        "    user_ratings = user_df['label'].tolist()\n",
        "    if len(user_items) == 0:\n",
        "        u_items_list.append([(0, 0)])\n",
        "    else:\n",
        "        u_items_list.append([(iid, rating) for iid, rating in zip(user_items, user_ratings)])\n",
        "\n",
        "for item in tqdm(range(item_count)):\n",
        "    item_df = train_df[train_df['iid'] == (item+1)]\n",
        "    item_users = item_df['uid'].tolist()\n",
        "    item_ratings = item_df['label'].tolist()\n",
        "    if len(item_users) == 0:\n",
        "        i_users_list.append([(0, 0)])\n",
        "    else:\n",
        "        i_users_list.append([(uid, rating) for uid, rating in zip(item_users, item_ratings)])\n",
        "\n",
        "for x in trust_f:\n",
        "    uid = x[0]\n",
        "    fid = x[1]\n",
        "    if uid > user_count or fid > user_count:\n",
        "        continue\n",
        "    trust_list.append([uid, fid])\n",
        "\n",
        "trust_df = pd.DataFrame(trust_list, columns = ['uid', 'fid'])\n",
        "trust_df = trust_df.sort_values(axis = 0, ascending = True, by = 'uid')\n",
        "\n",
        "for user in range(user_count):\n",
        "    user_df = trust_df[trust_df['uid'] == (user+1)]\n",
        "    u_users = user_df['fid'].unique().tolist()\n",
        "    if len(u_users) == 0:\n",
        "        u_users_list.append([0])\n",
        "        u_users_items_list.append([[(0, 0)]])\n",
        "    else:\n",
        "        u_users_list.append(u_users)\n",
        "        uu_items = []\n",
        "        for uid in u_users:\n",
        "          if uid == 0:\n",
        "            print('buuuggg')\n",
        "          uu_items.append(u_items_list[uid-1])\n",
        "        u_users_items_list.append(uu_items)\n"
      ],
      "metadata": {
        "colab": {
          "base_uri": "https://localhost:8080/"
        },
        "id": "cP_a_af1Nv-H",
        "outputId": "a934e979-0cb9-464e-bb4b-137306b980af"
      },
      "execution_count": null,
      "outputs": [
        {
          "output_type": "stream",
          "name": "stdout",
          "text": [
            "Train samples: 226496, Test samples: 56623\n"
          ]
        },
        {
          "output_type": "stream",
          "name": "stderr",
          "text": [
            "100%|██████████| 7375/7375 [00:05<00:00, 1394.24it/s]\n",
            "100%|██████████| 106797/106797 [01:16<00:00, 1393.59it/s]\n"
          ]
        }
      ]
    },
    {
      "cell_type": "code",
      "source": [
        "# create user-item graph\n",
        "G_ui = nx.Graph()\n",
        "\n",
        "# Add nodes to the graph\n",
        "G_ui.add_nodes_from(range(1, item_count+user_count+1))\n",
        "\n",
        "# Add edges to the graph from the list of lists\n",
        "for i, neighbors in enumerate(u_items_list):\n",
        "    for neighbor in neighbors:\n",
        "        if neighbor[1] == 0:\n",
        "          continue\n",
        "        G_ui.add_edge(i + 1, neighbor[0]+user_count,undirected=True,weight=neighbor[1])"
      ],
      "metadata": {
        "id": "Ux2hF3kvOmP4"
      },
      "execution_count": null,
      "outputs": []
    },
    {
      "cell_type": "code",
      "source": [
        "# running personalized page rank on the graph to recommend items:\n",
        "def personalized_page_rank_recommender(G,node_id,item_suggestion_count,user_count,item_count):\n",
        "    personalization = {i: 0 for i in range(1, user_count+item_count+1)}\n",
        "    personalization[node_id] = 1\n",
        "    pr = nx.pagerank(G, alpha=0.85, personalization=personalization, max_iter=100)\n",
        "    filtered_items = [(k, v) for k, v in pr.items() if k > user_count]\n",
        "    sorted_items = sorted(filtered_items, key=lambda x: x[1], reverse=True)\n",
        "    top_x_items = sorted_items[:item_suggestion_count]\n",
        "    return top_x_items\n",
        "personalized_page_rank_recommender(G_ui,1,5,user_count,item_count)"
      ],
      "metadata": {
        "colab": {
          "base_uri": "https://localhost:8080/"
        },
        "id": "tDCphkNlOF7s",
        "outputId": "7dc0a87e-c773-4b4b-8205-ce9296094ece"
      },
      "execution_count": null,
      "outputs": [
        {
          "output_type": "execute_result",
          "data": {
            "text/plain": [
              "[(7866, 0.0007324490023662073),\n",
              " (8008, 0.0006886829740370064),\n",
              " (8087, 0.0005728883736192808),\n",
              " (7952, 0.0005684280728756948),\n",
              " (7997, 0.000562546800315353)]"
            ]
          },
          "metadata": {},
          "execution_count": 8
        }
      ]
    },
    {
      "cell_type": "code",
      "source": [
        "# mount the google drive\n",
        "from google.colab import drive\n",
        "drive.mount('/content/drive')\n"
      ],
      "metadata": {
        "id": "J9zsLihwRDFv"
      },
      "execution_count": null,
      "outputs": []
    },
    {
      "cell_type": "code",
      "source": [
        "# load previously embedded graphs\n",
        "\n",
        "with open('mdl_ui.pkl', 'rb') as f:\n",
        "    mdl_ui = pickle.load(f)\n",
        "with open('mdl_uu.pkl', 'rb') as f:\n",
        "    mdl_uu = pickle.load(f)\n",
        "\n",
        "uu_embeddings = mdl_uu.wv.vectors\n",
        "ui_embeddings = mdl_ui.wv.vectors"
      ],
      "metadata": {
        "id": "h0b7RkZASSpD"
      },
      "execution_count": null,
      "outputs": []
    },
    {
      "cell_type": "markdown",
      "source": [
        "#recomadation  k means\n",
        "this allgoritm use kmens to recome for echa noode  most similar item"
      ],
      "metadata": {
        "id": "PRBpI-z7VVA_"
      }
    },
    {
      "cell_type": "code",
      "source": [
        "import matplotlib.pyplot as plt\n",
        "from sklearn.datasets import make_blobs\n",
        "from sklearn.cluster import KMeans\n",
        "from sklearn.metrics import silhouette_score\n",
        "from sklearn.preprocessing import StandardScaler"
      ],
      "metadata": {
        "id": "BJuf6yteVoAu"
      },
      "execution_count": null,
      "outputs": []
    },
    {
      "cell_type": "code",
      "source": [
        "from google.colab import drive\n",
        "drive.mount('/content/drive')"
      ],
      "metadata": {
        "colab": {
          "base_uri": "https://localhost:8080/"
        },
        "id": "22-HkpoVWVuX",
        "outputId": "573e475f-f49f-4621-ebeb-6c5f23d0ac98"
      },
      "execution_count": null,
      "outputs": [
        {
          "output_type": "stream",
          "name": "stdout",
          "text": [
            "Drive already mounted at /content/drive; to attempt to forcibly remount, call drive.mount(\"/content/drive\", force_remount=True).\n"
          ]
        }
      ]
    },
    {
      "cell_type": "markdown",
      "source": [
        "lode data embeding"
      ],
      "metadata": {
        "id": "WIjQwR7sV3lW"
      }
    },
    {
      "cell_type": "code",
      "source": [
        "from gensim.models import KeyedVectors\n",
        "\n",
        "# Specify the file path and filename for loading the model\n",
        "model_file = \"/content/drive/MyDrive/PRA/model_file2.bin\"\n",
        "\n",
        "# Load the word vectors from the saved file\n",
        "loaded_model = KeyedVectors.load_word2vec_format(model_file, binary=True)"
      ],
      "metadata": {
        "id": "2uamUB9WV6hs"
      },
      "execution_count": null,
      "outputs": []
    },
    {
      "cell_type": "markdown",
      "source": [
        "##data for user\n",
        "i use 300 class"
      ],
      "metadata": {
        "id": "T2aBNn1LWkh1"
      }
    },
    {
      "cell_type": "code",
      "source": [
        "import numpy as np\n",
        "\n",
        "# Set random seed for reproducibility\n",
        "np.random.seed(42)\n",
        "\n",
        "# Define the parameters\n",
        "n_samples = 7376\n",
        "n_features = 16\n",
        "n_centers = 300\n",
        "cluster_std = 2.75\n",
        "\n",
        "data = np.zeros((n_samples, n_features))  # Initialize the data array with zeros\n",
        "\n",
        "for i in range(n_samples):\n",
        "    key = str(i)\n",
        "    if key in loaded_model:\n",
        "        data[i] = loaded_model[key]\n",
        "\n",
        "\n",
        "# Create random labels\n",
        "labels = np.random.randint(0, n_centers, n_samples)\n",
        "\n",
        "# Print the shapes of data and labels\n",
        "print(\"Data shape:\", data.shape)\n",
        "print(\"Labels shape:\", labels)\n"
      ],
      "metadata": {
        "colab": {
          "base_uri": "https://localhost:8080/"
        },
        "id": "z_V1i7-4WGlX",
        "outputId": "c1730aad-82bd-4f18-e102-c8d0d754f301"
      },
      "execution_count": null,
      "outputs": [
        {
          "output_type": "stream",
          "name": "stdout",
          "text": [
            "Data shape: (7376, 16)\n",
            "Labels shape: [102 270 106 ... 205  55 117]\n"
          ]
        }
      ]
    },
    {
      "cell_type": "markdown",
      "source": [
        "lode data for items"
      ],
      "metadata": {
        "id": "tM1x7xs2WOZO"
      }
    },
    {
      "cell_type": "code",
      "source": [
        "import numpy as np\n",
        "\n",
        "# Set random seed for reproducibility\n",
        "np.random.seed(40)\n",
        "\n",
        "# Define the parameters\n",
        "n_samples = 106797\n",
        "n_features = 16\n",
        "n_centers = 1000\n",
        "cluster_std = 2.75\n",
        "\n",
        "dataI = np.zeros((n_samples, n_features))  # Initialize the data array with zeros\n",
        "\n",
        "for i in range(n_samples):\n",
        "    key = str(i+7376)\n",
        "    if key in loaded_model:\n",
        "        dataI[i] = loaded_model[key]\n",
        "\n",
        "# Create random labels\n",
        "labelsI = np.random.randint(0, n_centers, n_samples)\n",
        "\n",
        "# Print the shapes of data and labels\n",
        "print(\"Data shape:\", dataI.shape)\n",
        "print(\"Labels shape:\", labelsI)"
      ],
      "metadata": {
        "colab": {
          "base_uri": "https://localhost:8080/"
        },
        "id": "4UayuVnUW8Yx",
        "outputId": "0eda8e4a-afd4-4bf4-db37-d14896e17a94"
      },
      "execution_count": null,
      "outputs": [
        {
          "output_type": "stream",
          "name": "stdout",
          "text": [
            "Data shape: (106797, 16)\n",
            "Labels shape: [326 219   7 ... 367  30 100]\n"
          ]
        }
      ]
    },
    {
      "cell_type": "markdown",
      "source": [
        "# K means Algorithm\n",
        "in this cell we run kmeans on user and item until they are divided to some classes.\n"
      ],
      "metadata": {
        "id": "d9SkOuMBXZsl"
      }
    },
    {
      "cell_type": "markdown",
      "source": [
        "this for item"
      ],
      "metadata": {
        "id": "rSUwGG0eXxpZ"
      }
    },
    {
      "cell_type": "code",
      "source": [
        "from sklearn.cluster import KMeans\n",
        "import numpy as np\n",
        "\n",
        "# Set random seed for reproducibility\n",
        "np.random.seed(42)\n",
        "\n",
        "# Create a KMeans instance\n",
        "kmeans = KMeans(n_clusters=300, random_state=42)\n",
        "\n",
        "# Fit the data to the KMeans model\n",
        "kmeans.fit(data)\n",
        "\n",
        "# Get the cluster labels for the data points\n",
        "labelsk= kmeans.labels_ # this show  class eche node\n",
        "\n",
        "# Print the cluster labels\n",
        "for i in range(10):\n",
        "\n",
        "  #print(\"Cluster labels:\", labels[i])\n",
        "  print(\"Cluster labelsk:\", labelsk[i])\n"
      ],
      "metadata": {
        "colab": {
          "base_uri": "https://localhost:8080/"
        },
        "id": "5pKUOslaXPd9",
        "outputId": "60cc681f-90ac-44fb-ac81-13874f18df6c"
      },
      "execution_count": null,
      "outputs": [
        {
          "output_type": "stream",
          "name": "stderr",
          "text": [
            "/usr/local/lib/python3.10/dist-packages/sklearn/cluster/_kmeans.py:870: FutureWarning: The default value of `n_init` will change from 10 to 'auto' in 1.4. Set the value of `n_init` explicitly to suppress the warning\n",
            "  warnings.warn(\n"
          ]
        },
        {
          "output_type": "stream",
          "name": "stdout",
          "text": [
            "Cluster labelsk: 22\n",
            "Cluster labelsk: 159\n",
            "Cluster labelsk: 297\n",
            "Cluster labelsk: 183\n",
            "Cluster labelsk: 128\n",
            "Cluster labelsk: 26\n",
            "Cluster labelsk: 26\n",
            "Cluster labelsk: 26\n",
            "Cluster labelsk: 56\n",
            "Cluster labelsk: 127\n"
          ]
        }
      ]
    },
    {
      "cell_type": "markdown",
      "source": [
        "for items"
      ],
      "metadata": {
        "id": "NELBP4WTYGku"
      }
    },
    {
      "cell_type": "code",
      "source": [
        "from sklearn.cluster import KMeans\n",
        "import numpy as np\n",
        "\n",
        "# Set random seed for reproducibility\n",
        "np.random.seed(40)\n",
        "\n",
        "# Generate random data\n",
        "\n",
        "\n",
        "# Create a KMeans instance\n",
        "kmeansI = KMeans(n_clusters=1000, random_state=40)\n",
        "\n",
        "# Fit the data to the KMeans model\n",
        "kmeansI.fit(dataI)\n",
        "\n",
        "# Get the cluster labels for the data points\n",
        "labelskI= kmeansI.labels_\n",
        "\n",
        "# Print the cluster labels\n",
        "for i in range(10):\n",
        "\n",
        "  print(\"Cluster labels:\", labels[i])\n",
        "  print(\"Cluster labelsk:\", labelskI[i])"
      ],
      "metadata": {
        "colab": {
          "base_uri": "https://localhost:8080/"
        },
        "id": "xL0DRu5AX9I5",
        "outputId": "d2d40d1d-81e2-47c2-cfa6-1d2e26ca26e2"
      },
      "execution_count": null,
      "outputs": [
        {
          "output_type": "stream",
          "name": "stderr",
          "text": [
            "/usr/local/lib/python3.10/dist-packages/sklearn/cluster/_kmeans.py:870: FutureWarning: The default value of `n_init` will change from 10 to 'auto' in 1.4. Set the value of `n_init` explicitly to suppress the warning\n",
            "  warnings.warn(\n"
          ]
        },
        {
          "output_type": "stream",
          "name": "stdout",
          "text": [
            "Cluster labels: 102\n",
            "Cluster labelsk: 988\n",
            "Cluster labels: 270\n",
            "Cluster labelsk: 122\n",
            "Cluster labels: 106\n",
            "Cluster labelsk: 122\n",
            "Cluster labels: 71\n",
            "Cluster labelsk: 122\n",
            "Cluster labels: 188\n",
            "Cluster labelsk: 925\n",
            "Cluster labels: 20\n",
            "Cluster labelsk: 122\n",
            "Cluster labels: 102\n",
            "Cluster labelsk: 937\n",
            "Cluster labels: 121\n",
            "Cluster labelsk: 0\n",
            "Cluster labels: 214\n",
            "Cluster labelsk: 409\n",
            "Cluster labels: 87\n",
            "Cluster labelsk: 122\n"
          ]
        }
      ]
    },
    {
      "cell_type": "markdown",
      "source": [
        "calculate closet class"
      ],
      "metadata": {
        "id": "L2pSfrdTZm6_"
      }
    },
    {
      "cell_type": "code",
      "source": [
        "vectors=kmeans.cluster_centers_\n",
        "print(\"Cluster labelsk:\", labelskI[2])\n",
        "print(len(vectors))\n",
        "given_vector=kmeansI.cluster_centers_\n",
        "print(len(given_vector))\n",
        "\n",
        "closest_index = []\n",
        "for i in range(300):\n",
        "    # Calculate Euclidean distances between the given vector and all other vectors\n",
        "    distances = np.linalg.norm(vectors[i] - given_vector, axis=1)\n",
        "\n",
        "      # Find the index of the vector with the minimum distance\n",
        "      #closest_index.append(np.argmin(distances))\n",
        "      # print(closest_index)\n",
        "   # print(distances)\n",
        "    man= np.where(distances < 5.5)[0]\n",
        "    #print(man)\n",
        "    closest_index.append(man)\n",
        "\n",
        "      # Get the closest vector\n",
        "print(len(closest_index))\n"
      ],
      "metadata": {
        "colab": {
          "base_uri": "https://localhost:8080/"
        },
        "id": "JOzskpLgYPIl",
        "outputId": "69c76a7b-7811-4773-9416-4a2ea7aa9c14"
      },
      "execution_count": null,
      "outputs": [
        {
          "output_type": "stream",
          "name": "stdout",
          "text": [
            "Cluster labelsk: 122\n",
            "300\n",
            "1000\n",
            "300\n"
          ]
        }
      ]
    },
    {
      "cell_type": "markdown",
      "source": [
        "#Dictionary for node"
      ],
      "metadata": {
        "id": "2ZrQBkmuZ9-n"
      }
    },
    {
      "cell_type": "markdown",
      "source": [
        "for iteams"
      ],
      "metadata": {
        "id": "NyY4biDKaRRW"
      }
    },
    {
      "cell_type": "code",
      "source": [
        "K=1000\n",
        "# Create a dictionary to store the data points for each cluster\n",
        "clustersI = {}\n",
        "clusterIUp={}\n",
        "for i in range(K):\n",
        "    clustersI[i] = []\n",
        "    clusterIUp[i]=[]\n",
        "# Iterate over the labels and data points to assign them to their respective clusters\n",
        "m=0\n",
        "\n",
        "# Iterate over the labels and data points to assign them to their respective clusters\n",
        "for label, data_point in zip(labelskI, dataI):\n",
        "    clustersI[label].append(data_point)\n",
        "    clusterIUp[label].append(m)\n",
        "    m=m+1\n",
        "\n",
        "# Print the data points for each cluster\n",
        "print((clusterIUp[2]))\n"
      ],
      "metadata": {
        "colab": {
          "base_uri": "https://localhost:8080/"
        },
        "id": "0hqrpFTSZqo1",
        "outputId": "13bc9344-628a-469e-8b8f-4da580ec859c"
      },
      "execution_count": null,
      "outputs": [
        {
          "output_type": "stream",
          "name": "stdout",
          "text": [
            "[397, 3232, 3431, 3502, 3538, 3785, 6457, 6593, 13704, 13820, 13821, 13822, 13824, 13825, 13826, 13827, 13833, 13837, 13838, 13840, 13850, 13852, 13854, 13855, 13857, 13859, 13862, 13863, 13865, 13866, 13867, 13869, 13872, 13874, 13876, 13878, 13884, 13886, 13887, 13890, 13892, 13894, 13895, 13897, 13898, 13899, 13902, 13904, 13910, 13918, 13919, 13921, 13925, 13929, 14098, 14099, 14102, 14104, 14105, 14108, 14112, 14119, 14120, 14125, 14126, 14129, 14132, 14134, 14135, 14137, 14138, 14139, 14143, 14144, 14145, 14146, 14147, 14148, 14151, 14152, 14163, 14164, 14167, 14168, 14170, 14175, 14176, 14178, 14179, 14180, 14181, 14185, 14188, 14189, 14191, 14192, 14193, 14194, 14196, 14198, 14201, 14202, 14205, 14206, 14207, 14208, 14209, 14210, 14212, 14215, 14218, 14219, 14220, 14221, 14222, 14223, 14224, 14227, 14235, 14236, 14239, 14240, 14242, 14243, 14244, 14249, 14250, 14251, 14255, 14258, 14265, 14266, 14267, 14269, 14270, 14271, 14276, 14278, 14281, 14282, 14283, 14285, 14292, 14293, 22620, 22778, 32452, 32825, 38023, 38405, 39081, 40783, 47767, 66073, 66074, 66075, 66076, 66077, 66078, 66079, 66080, 66082, 66083, 66084, 66085, 66086, 81664, 98998, 100702]\n"
          ]
        }
      ]
    },
    {
      "cell_type": "markdown",
      "source": [
        "for user"
      ],
      "metadata": {
        "id": "aXdL5L7KabiQ"
      }
    },
    {
      "cell_type": "code",
      "source": [
        "K=300\n",
        "# Create a dictionary to store the data points for each cluster\n",
        "clustersU = {}\n",
        "clusterUp={}\n",
        "for i in range(K):\n",
        "    clustersU[i] = []\n",
        "    clusterUp[i]=[]\n",
        "# Iterate over the labels and data points to assign them to their respective clusters\n",
        "j=0\n",
        "for label, data_point in zip(labelsk, data):\n",
        "\n",
        "    clustersU[label].append(data_point)\n",
        "    clusterUp[label].append(j)\n",
        "    j=j+1\n",
        "# Print the data points for each cluster\n",
        "# for i in range(K):\n",
        "#     print(f\"Data points in cluster {i}:\")\n",
        "#     print(np.array(clusters[i]))\n",
        "print(data[0])\n",
        "print(labelsk[0])\n",
        "print(clustersU[43][0])# cluster 43 data  home 0\n",
        "print(clusterUp[43]) # show  number of index home\n",
        "print(len(clusterUp))"
      ],
      "metadata": {
        "colab": {
          "base_uri": "https://localhost:8080/"
        },
        "id": "DfXRusiIaZot",
        "outputId": "d9de2c80-0715-486f-a1fe-23fd85c8b66c"
      },
      "execution_count": null,
      "outputs": [
        {
          "output_type": "stream",
          "name": "stdout",
          "text": [
            "[0. 0. 0. 0. 0. 0. 0. 0. 0. 0. 0. 0. 0. 0. 0. 0.]\n",
            "22\n",
            "[-0.46870187  0.87873405  1.94985592  0.55344433  0.73468101 -0.10793568\n",
            "  1.5746069   0.97873181 -1.88922429  1.14474964 -2.18934202  1.02690959\n",
            "  0.13977192 -1.428092    0.07518107  2.40034962]\n",
            "[889, 947, 1151, 1178, 1649, 1653, 1843, 2196, 2613, 2617, 2618, 3021, 3296, 3297, 3300, 3317, 3524, 3583, 3600, 3603, 4016, 4018, 4119, 4440, 4444, 4613, 4902, 4927, 4986, 5518, 6743, 6880]\n",
            "300\n"
          ]
        }
      ]
    },
    {
      "cell_type": "markdown",
      "source": [
        "#choose 10 similar items"
      ],
      "metadata": {
        "id": "Yf0NUUJmaj_S"
      }
    },
    {
      "cell_type": "markdown",
      "source": [
        "for each node"
      ],
      "metadata": {
        "id": "CoHSEON4ay2J"
      }
    },
    {
      "cell_type": "code",
      "source": [
        "from scipy.spatial.distance import cosine\n",
        "import heapq\n",
        "mywant=100\n",
        "result = []\n",
        "DistanceNode=[]\n",
        "distangushe=[]\n",
        "tops=[]\n",
        "man=0\n",
        "\n",
        "for indexU in range(len(clustersU)):\n",
        "  print(len(clustersU))\n",
        "  print(indexU)\n",
        "  for specialU in range(len(clustersU[indexU])):\n",
        "\n",
        "\n",
        "   #result.append(DistanceNode)\n",
        "    numbers=[]\n",
        "    choices = []\n",
        "    if man ==1:\n",
        "      print(\"ddddddddddddddddd\")\n",
        "      print(len(tops))\n",
        "      for i  in range(len(DistanceNode)):\n",
        "        numbers.append(DistanceNode[i][0])\n",
        "        choices.append(DistanceNode[i][1])\n",
        "      top_10 = heapq.nsmallest(10, numbers)\n",
        "      top_choices = [choices[numbers.index(num)] for num in top_10]\n",
        "      #print(numbers)\n",
        "      tops.append((top_10, top_choices))\n",
        "      man=0\n",
        "\n",
        "\n",
        "\n",
        "    distangushe.append(clusterUp[indexU][specialU])\n",
        "\n",
        "    DistanceNode=[]\n",
        "\n",
        "    if clusterUp[indexU][specialU]==mywant:\n",
        "      man=1\n",
        "\n",
        "      for relatedI in range(len(closest_index[indexU])):# move on cluster choce\n",
        "\n",
        "        for indexI in range(len(clustersI[closest_index[indexU][relatedI]])):# move one item\n",
        "\n",
        "            # if(indexU==0):\n",
        "            #   print(relatedI,len(clustersI[closest_index[indexU][relatedI]]),specialU,result[specialU])\n",
        "\n",
        "            distance = np.linalg.norm(clustersU[indexU][specialU] - clustersI[closest_index[indexU][relatedI]][indexI])\n",
        "            con=[]\n",
        "            con.append(distance)\n",
        "            con.append([closest_index[indexU][relatedI],indexI])\n",
        "            # print(\"vvvvvvvvvv\")\n",
        "            # print(clusterUp[indexU][specialU])\n",
        "            # con.append(clusterUp[indexU][specialU])\n",
        "            DistanceNode.append(con)\n",
        "\n",
        "print()\n"
      ],
      "metadata": {
        "colab": {
          "base_uri": "https://localhost:8080/"
        },
        "id": "JWd4h7QRlphB",
        "outputId": "9aba6bdd-2d25-4586-b8a6-34a0e67eae84"
      },
      "execution_count": null,
      "outputs": [
        {
          "output_type": "stream",
          "name": "stdout",
          "text": [
            "300\n",
            "0\n",
            "300\n",
            "1\n",
            "300\n",
            "2\n",
            "300\n",
            "3\n",
            "300\n",
            "4\n",
            "300\n",
            "5\n",
            "300\n",
            "6\n",
            "300\n",
            "7\n",
            "300\n",
            "8\n",
            "300\n",
            "9\n",
            "300\n",
            "10\n",
            "300\n",
            "11\n",
            "300\n",
            "12\n",
            "300\n",
            "13\n",
            "300\n",
            "14\n",
            "300\n",
            "15\n",
            "300\n",
            "16\n",
            "300\n",
            "17\n",
            "300\n",
            "18\n",
            "300\n",
            "19\n",
            "300\n",
            "20\n",
            "300\n",
            "21\n",
            "300\n",
            "22\n",
            "300\n",
            "23\n",
            "300\n",
            "24\n",
            "300\n",
            "25\n",
            "300\n",
            "26\n",
            "ddddddddddddddddd\n",
            "0\n",
            "300\n",
            "27\n",
            "300\n",
            "28\n",
            "300\n",
            "29\n",
            "300\n",
            "30\n",
            "300\n",
            "31\n",
            "300\n",
            "32\n",
            "300\n",
            "33\n",
            "300\n",
            "34\n",
            "300\n",
            "35\n",
            "300\n",
            "36\n",
            "300\n",
            "37\n",
            "300\n",
            "38\n",
            "300\n",
            "39\n",
            "300\n",
            "40\n",
            "300\n",
            "41\n",
            "300\n",
            "42\n",
            "300\n",
            "43\n",
            "300\n",
            "44\n",
            "300\n",
            "45\n",
            "300\n",
            "46\n",
            "300\n",
            "47\n",
            "300\n",
            "48\n",
            "300\n",
            "49\n",
            "300\n",
            "50\n",
            "300\n",
            "51\n",
            "300\n",
            "52\n",
            "300\n",
            "53\n",
            "300\n",
            "54\n",
            "300\n",
            "55\n",
            "300\n",
            "56\n",
            "300\n",
            "57\n",
            "300\n",
            "58\n",
            "300\n",
            "59\n",
            "300\n",
            "60\n",
            "300\n",
            "61\n",
            "300\n",
            "62\n",
            "300\n",
            "63\n",
            "300\n",
            "64\n",
            "300\n",
            "65\n",
            "300\n",
            "66\n",
            "300\n",
            "67\n",
            "300\n",
            "68\n",
            "300\n",
            "69\n",
            "300\n",
            "70\n",
            "300\n",
            "71\n",
            "300\n",
            "72\n",
            "300\n",
            "73\n",
            "300\n",
            "74\n",
            "300\n",
            "75\n",
            "300\n",
            "76\n",
            "300\n",
            "77\n",
            "300\n",
            "78\n",
            "300\n",
            "79\n",
            "300\n",
            "80\n",
            "300\n",
            "81\n",
            "300\n",
            "82\n",
            "300\n",
            "83\n",
            "300\n",
            "84\n",
            "300\n",
            "85\n",
            "300\n",
            "86\n",
            "300\n",
            "87\n",
            "300\n",
            "88\n",
            "300\n",
            "89\n",
            "300\n",
            "90\n",
            "300\n",
            "91\n",
            "300\n",
            "92\n",
            "300\n",
            "93\n",
            "300\n",
            "94\n",
            "300\n",
            "95\n",
            "300\n",
            "96\n",
            "300\n",
            "97\n",
            "300\n",
            "98\n",
            "300\n",
            "99\n",
            "300\n",
            "100\n",
            "300\n",
            "101\n",
            "300\n",
            "102\n",
            "300\n",
            "103\n",
            "300\n",
            "104\n",
            "300\n",
            "105\n",
            "300\n",
            "106\n",
            "300\n",
            "107\n",
            "300\n",
            "108\n",
            "300\n",
            "109\n",
            "300\n",
            "110\n",
            "300\n",
            "111\n",
            "300\n",
            "112\n",
            "300\n",
            "113\n",
            "300\n",
            "114\n",
            "300\n",
            "115\n",
            "300\n",
            "116\n",
            "300\n",
            "117\n",
            "300\n",
            "118\n",
            "300\n",
            "119\n",
            "300\n",
            "120\n",
            "300\n",
            "121\n",
            "300\n",
            "122\n",
            "300\n",
            "123\n",
            "300\n",
            "124\n",
            "300\n",
            "125\n",
            "300\n",
            "126\n",
            "300\n",
            "127\n",
            "300\n",
            "128\n",
            "300\n",
            "129\n",
            "300\n",
            "130\n",
            "300\n",
            "131\n",
            "300\n",
            "132\n",
            "300\n",
            "133\n",
            "300\n",
            "134\n",
            "300\n",
            "135\n",
            "300\n",
            "136\n",
            "300\n",
            "137\n",
            "300\n",
            "138\n",
            "300\n",
            "139\n",
            "300\n",
            "140\n",
            "300\n",
            "141\n",
            "300\n",
            "142\n",
            "300\n",
            "143\n",
            "300\n",
            "144\n",
            "300\n",
            "145\n",
            "300\n",
            "146\n",
            "300\n",
            "147\n",
            "300\n",
            "148\n",
            "300\n",
            "149\n",
            "300\n",
            "150\n",
            "300\n",
            "151\n",
            "300\n",
            "152\n",
            "300\n",
            "153\n",
            "300\n",
            "154\n",
            "300\n",
            "155\n",
            "300\n",
            "156\n",
            "300\n",
            "157\n",
            "300\n",
            "158\n",
            "300\n",
            "159\n",
            "300\n",
            "160\n",
            "300\n",
            "161\n",
            "300\n",
            "162\n",
            "300\n",
            "163\n",
            "300\n",
            "164\n",
            "300\n",
            "165\n",
            "300\n",
            "166\n",
            "300\n",
            "167\n",
            "300\n",
            "168\n",
            "300\n",
            "169\n",
            "300\n",
            "170\n",
            "300\n",
            "171\n",
            "300\n",
            "172\n",
            "300\n",
            "173\n",
            "300\n",
            "174\n",
            "300\n",
            "175\n",
            "300\n",
            "176\n",
            "300\n",
            "177\n",
            "300\n",
            "178\n",
            "300\n",
            "179\n",
            "300\n",
            "180\n",
            "300\n",
            "181\n",
            "300\n",
            "182\n",
            "300\n",
            "183\n",
            "300\n",
            "184\n",
            "300\n",
            "185\n",
            "300\n",
            "186\n",
            "300\n",
            "187\n",
            "300\n",
            "188\n",
            "300\n",
            "189\n",
            "300\n",
            "190\n",
            "300\n",
            "191\n",
            "300\n",
            "192\n",
            "300\n",
            "193\n",
            "300\n",
            "194\n",
            "300\n",
            "195\n",
            "300\n",
            "196\n",
            "300\n",
            "197\n",
            "300\n",
            "198\n",
            "300\n",
            "199\n",
            "300\n",
            "200\n",
            "300\n",
            "201\n",
            "300\n",
            "202\n",
            "300\n",
            "203\n",
            "300\n",
            "204\n",
            "300\n",
            "205\n",
            "300\n",
            "206\n",
            "300\n",
            "207\n",
            "300\n",
            "208\n",
            "300\n",
            "209\n",
            "300\n",
            "210\n",
            "300\n",
            "211\n",
            "300\n",
            "212\n",
            "300\n",
            "213\n",
            "300\n",
            "214\n",
            "300\n",
            "215\n",
            "300\n",
            "216\n",
            "300\n",
            "217\n",
            "300\n",
            "218\n",
            "300\n",
            "219\n",
            "300\n",
            "220\n",
            "300\n",
            "221\n",
            "300\n",
            "222\n",
            "300\n",
            "223\n",
            "300\n",
            "224\n",
            "300\n",
            "225\n",
            "300\n",
            "226\n",
            "300\n",
            "227\n",
            "300\n",
            "228\n",
            "300\n",
            "229\n",
            "300\n",
            "230\n",
            "300\n",
            "231\n",
            "300\n",
            "232\n",
            "300\n",
            "233\n",
            "300\n",
            "234\n",
            "300\n",
            "235\n",
            "300\n",
            "236\n",
            "300\n",
            "237\n",
            "300\n",
            "238\n",
            "300\n",
            "239\n",
            "300\n",
            "240\n",
            "300\n",
            "241\n",
            "300\n",
            "242\n",
            "300\n",
            "243\n",
            "300\n",
            "244\n",
            "300\n",
            "245\n",
            "300\n",
            "246\n",
            "300\n",
            "247\n",
            "300\n",
            "248\n",
            "300\n",
            "249\n",
            "300\n",
            "250\n",
            "300\n",
            "251\n",
            "300\n",
            "252\n",
            "300\n",
            "253\n",
            "300\n",
            "254\n",
            "300\n",
            "255\n",
            "300\n",
            "256\n",
            "300\n",
            "257\n",
            "300\n",
            "258\n",
            "300\n",
            "259\n",
            "300\n",
            "260\n",
            "300\n",
            "261\n",
            "300\n",
            "262\n",
            "300\n",
            "263\n",
            "300\n",
            "264\n",
            "300\n",
            "265\n",
            "300\n",
            "266\n",
            "300\n",
            "267\n",
            "300\n",
            "268\n",
            "300\n",
            "269\n",
            "300\n",
            "270\n",
            "300\n",
            "271\n",
            "300\n",
            "272\n",
            "300\n",
            "273\n",
            "300\n",
            "274\n",
            "300\n",
            "275\n",
            "300\n",
            "276\n",
            "300\n",
            "277\n",
            "300\n",
            "278\n",
            "300\n",
            "279\n",
            "300\n",
            "280\n",
            "300\n",
            "281\n",
            "300\n",
            "282\n",
            "300\n",
            "283\n",
            "300\n",
            "284\n",
            "300\n",
            "285\n",
            "300\n",
            "286\n",
            "300\n",
            "287\n",
            "300\n",
            "288\n",
            "300\n",
            "289\n",
            "300\n",
            "290\n",
            "300\n",
            "291\n",
            "300\n",
            "292\n",
            "300\n",
            "293\n",
            "300\n",
            "294\n",
            "300\n",
            "295\n",
            "300\n",
            "296\n",
            "300\n",
            "297\n",
            "300\n",
            "298\n",
            "300\n",
            "299\n",
            "\n"
          ]
        }
      ]
    },
    {
      "cell_type": "markdown",
      "source": [
        "for a special node\n"
      ],
      "metadata": {
        "id": "S5vMgcYLa2kp"
      }
    },
    {
      "cell_type": "code",
      "source": [
        "print(\"for node i the below items are recomended\")\n",
        "print(mywant)\n",
        "print(\"fornode\")\n",
        "for j in range(10):\n",
        "\n",
        "     print(tops[0][1][j][0])\n",
        "     print(clusterIUp[tops[0][1][j][0]][tops[0][1][j][1]]+1)\n"
      ],
      "metadata": {
        "colab": {
          "base_uri": "https://localhost:8080/"
        },
        "id": "7Y-t6-PUa4Gy",
        "outputId": "3bf9bc2f-5811-4086-d37a-9fb320b586c3"
      },
      "execution_count": null,
      "outputs": [
        {
          "output_type": "stream",
          "name": "stdout",
          "text": [
            "for node i recomend\n",
            "100\n",
            "fornode\n",
            "408\n",
            "17067\n",
            "281\n",
            "3215\n",
            "622\n",
            "11427\n",
            "614\n",
            "17585\n",
            "123\n",
            "751\n",
            "710\n",
            "9593\n",
            "123\n",
            "11421\n",
            "935\n",
            "26559\n",
            "635\n",
            "49376\n",
            "63\n",
            "15978\n"
          ]
        }
      ]
    }
  ]
}